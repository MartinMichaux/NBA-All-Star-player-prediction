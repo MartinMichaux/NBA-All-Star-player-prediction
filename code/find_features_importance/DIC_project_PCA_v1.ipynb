{
 "cells": [
  {
   "cell_type": "code",
   "execution_count": 9,
   "metadata": {
    "executionInfo": {
     "elapsed": 629,
     "status": "ok",
     "timestamp": 1636514656738,
     "user": {
      "displayName": "Colin Eriksson",
      "photoUrl": "https://lh3.googleusercontent.com/a/default-user=s64",
      "userId": "01931492935605575511"
     },
     "user_tz": -480
    },
    "id": "0tGAgzc82HDP"
   },
   "outputs": [],
   "source": [
    "import pandas as pd\n",
    "import numpy as np\n",
    "from sklearn.decomposition import PCA\n",
    "from sklearn.preprocessing import StandardScaler\n",
    "from sklearn.impute import KNNImputer"
   ]
  },
  {
   "cell_type": "code",
   "execution_count": 10,
   "metadata": {
    "executionInfo": {
     "elapsed": 303,
     "status": "ok",
     "timestamp": 1636514659209,
     "user": {
      "displayName": "Colin Eriksson",
      "photoUrl": "https://lh3.googleusercontent.com/a/default-user=s64",
      "userId": "01931492935605575511"
     },
     "user_tz": -480
    },
    "id": "1P2yJgPm3Z0k"
   },
   "outputs": [],
   "source": [
    "data_path = \"/content/drive/MyDrive/Data Intensive Computing project/data/NBA_data_merged_v2.csv\""
   ]
  },
  {
   "cell_type": "code",
   "execution_count": 11,
   "metadata": {
    "executionInfo": {
     "elapsed": 316,
     "status": "ok",
     "timestamp": 1636514661618,
     "user": {
      "displayName": "Colin Eriksson",
      "photoUrl": "https://lh3.googleusercontent.com/a/default-user=s64",
      "userId": "01931492935605575511"
     },
     "user_tz": -480
    },
    "id": "bFV8cJ8m2HDU"
   },
   "outputs": [],
   "source": [
    "df = pd.read_csv(data_path)"
   ]
  },
  {
   "cell_type": "code",
   "execution_count": 12,
   "metadata": {
    "colab": {
     "base_uri": "https://localhost:8080/",
     "height": 326
    },
    "executionInfo": {
     "elapsed": 588,
     "status": "ok",
     "timestamp": 1636514663618,
     "user": {
      "displayName": "Colin Eriksson",
      "photoUrl": "https://lh3.googleusercontent.com/a/default-user=s64",
      "userId": "01931492935605575511"
     },
     "user_tz": -480
    },
    "id": "LJUCgaKF2HDU",
    "outputId": "6bf10b27-35cc-43d2-ca0f-59a23d68a470"
   },
   "outputs": [
    {
     "data": {
      "text/html": [
       "<div>\n",
       "<style scoped>\n",
       "    .dataframe tbody tr th:only-of-type {\n",
       "        vertical-align: middle;\n",
       "    }\n",
       "\n",
       "    .dataframe tbody tr th {\n",
       "        vertical-align: top;\n",
       "    }\n",
       "\n",
       "    .dataframe thead th {\n",
       "        text-align: right;\n",
       "    }\n",
       "</style>\n",
       "<table border=\"1\" class=\"dataframe\">\n",
       "  <thead>\n",
       "    <tr style=\"text-align: right;\">\n",
       "      <th></th>\n",
       "      <th>year</th>\n",
       "      <th>tm</th>\n",
       "      <th>player</th>\n",
       "      <th>age</th>\n",
       "      <th>g</th>\n",
       "      <th>per</th>\n",
       "      <th>ts.</th>\n",
       "      <th>x3par</th>\n",
       "      <th>ftr</th>\n",
       "      <th>orb.</th>\n",
       "      <th>drb.</th>\n",
       "      <th>trb.</th>\n",
       "      <th>ast.</th>\n",
       "      <th>stl.</th>\n",
       "      <th>blk.</th>\n",
       "      <th>tov.</th>\n",
       "      <th>usg.</th>\n",
       "      <th>ws</th>\n",
       "      <th>ws.48</th>\n",
       "      <th>obpm</th>\n",
       "      <th>dbpm</th>\n",
       "      <th>bpm</th>\n",
       "      <th>vorp.gm</th>\n",
       "      <th>offense</th>\n",
       "      <th>defense</th>\n",
       "      <th>mpg.1</th>\n",
       "      <th>tm.ortg</th>\n",
       "      <th>tm.drtg</th>\n",
       "      <th>truesalary</th>\n",
       "      <th>bbref.pos</th>\n",
       "      <th>yrs.experience</th>\n",
       "      <th>height</th>\n",
       "      <th>weight</th>\n",
       "      <th>rounded.position</th>\n",
       "      <th>Selected</th>\n",
       "    </tr>\n",
       "  </thead>\n",
       "  <tbody>\n",
       "    <tr>\n",
       "      <th>0</th>\n",
       "      <td>2000</td>\n",
       "      <td>DAL</td>\n",
       "      <td>Michael Finley</td>\n",
       "      <td>26</td>\n",
       "      <td>82</td>\n",
       "      <td>19.2</td>\n",
       "      <td>0.522</td>\n",
       "      <td>0.151</td>\n",
       "      <td>0.194</td>\n",
       "      <td>3.8</td>\n",
       "      <td>12.2</td>\n",
       "      <td>8.0</td>\n",
       "      <td>21.3</td>\n",
       "      <td>1.6</td>\n",
       "      <td>0.6</td>\n",
       "      <td>9.9</td>\n",
       "      <td>25.1</td>\n",
       "      <td>8.3</td>\n",
       "      <td>0.114</td>\n",
       "      <td>2.9</td>\n",
       "      <td>-0.7</td>\n",
       "      <td>2.2</td>\n",
       "      <td>3.8</td>\n",
       "      <td>-0.42</td>\n",
       "      <td>-0.61</td>\n",
       "      <td>42.2</td>\n",
       "      <td>2.8</td>\n",
       "      <td>-3.0</td>\n",
       "      <td>16300000.0</td>\n",
       "      <td>3.0</td>\n",
       "      <td>4.0</td>\n",
       "      <td>79.0</td>\n",
       "      <td>215.0</td>\n",
       "      <td>2.0</td>\n",
       "      <td>0.0</td>\n",
       "    </tr>\n",
       "    <tr>\n",
       "      <th>1</th>\n",
       "      <td>2000</td>\n",
       "      <td>SEA</td>\n",
       "      <td>Gary Payton</td>\n",
       "      <td>31</td>\n",
       "      <td>82</td>\n",
       "      <td>23.6</td>\n",
       "      <td>0.535</td>\n",
       "      <td>0.312</td>\n",
       "      <td>0.254</td>\n",
       "      <td>3.2</td>\n",
       "      <td>13.9</td>\n",
       "      <td>8.5</td>\n",
       "      <td>37.7</td>\n",
       "      <td>2.3</td>\n",
       "      <td>0.4</td>\n",
       "      <td>10.8</td>\n",
       "      <td>26.8</td>\n",
       "      <td>13.9</td>\n",
       "      <td>0.195</td>\n",
       "      <td>6.6</td>\n",
       "      <td>-0.2</td>\n",
       "      <td>6.4</td>\n",
       "      <td>7.6</td>\n",
       "      <td>0.94</td>\n",
       "      <td>0.17</td>\n",
       "      <td>41.8</td>\n",
       "      <td>1.5</td>\n",
       "      <td>-0.4</td>\n",
       "      <td>24500000.0</td>\n",
       "      <td>1.0</td>\n",
       "      <td>9.0</td>\n",
       "      <td>76.0</td>\n",
       "      <td>180.0</td>\n",
       "      <td>1.0</td>\n",
       "      <td>0.0</td>\n",
       "    </tr>\n",
       "    <tr>\n",
       "      <th>2</th>\n",
       "      <td>2000</td>\n",
       "      <td>NYK</td>\n",
       "      <td>Latrell Sprewell</td>\n",
       "      <td>29</td>\n",
       "      <td>82</td>\n",
       "      <td>15.7</td>\n",
       "      <td>0.515</td>\n",
       "      <td>0.097</td>\n",
       "      <td>0.304</td>\n",
       "      <td>1.8</td>\n",
       "      <td>10.5</td>\n",
       "      <td>6.3</td>\n",
       "      <td>18.2</td>\n",
       "      <td>1.8</td>\n",
       "      <td>0.5</td>\n",
       "      <td>13.2</td>\n",
       "      <td>24.7</td>\n",
       "      <td>6.6</td>\n",
       "      <td>0.097</td>\n",
       "      <td>0.3</td>\n",
       "      <td>0.8</td>\n",
       "      <td>1.0</td>\n",
       "      <td>2.5</td>\n",
       "      <td>-1.41</td>\n",
       "      <td>-0.41</td>\n",
       "      <td>40.0</td>\n",
       "      <td>-1.9</td>\n",
       "      <td>3.3</td>\n",
       "      <td>13500000.0</td>\n",
       "      <td>3.0</td>\n",
       "      <td>7.0</td>\n",
       "      <td>77.0</td>\n",
       "      <td>190.0</td>\n",
       "      <td>2.0</td>\n",
       "      <td>0.0</td>\n",
       "    </tr>\n",
       "    <tr>\n",
       "      <th>3</th>\n",
       "      <td>2000</td>\n",
       "      <td>MIN</td>\n",
       "      <td>Kevin Garnett</td>\n",
       "      <td>23</td>\n",
       "      <td>81</td>\n",
       "      <td>23.6</td>\n",
       "      <td>0.545</td>\n",
       "      <td>0.053</td>\n",
       "      <td>0.265</td>\n",
       "      <td>7.9</td>\n",
       "      <td>26.6</td>\n",
       "      <td>17.1</td>\n",
       "      <td>21.5</td>\n",
       "      <td>1.9</td>\n",
       "      <td>2.8</td>\n",
       "      <td>13.6</td>\n",
       "      <td>27.4</td>\n",
       "      <td>11.6</td>\n",
       "      <td>0.172</td>\n",
       "      <td>3.1</td>\n",
       "      <td>2.6</td>\n",
       "      <td>5.7</td>\n",
       "      <td>6.6</td>\n",
       "      <td>-0.70</td>\n",
       "      <td>0.94</td>\n",
       "      <td>40.0</td>\n",
       "      <td>2.2</td>\n",
       "      <td>0.8</td>\n",
       "      <td>23000000.0</td>\n",
       "      <td>4.0</td>\n",
       "      <td>4.0</td>\n",
       "      <td>83.0</td>\n",
       "      <td>220.0</td>\n",
       "      <td>4.0</td>\n",
       "      <td>0.0</td>\n",
       "    </tr>\n",
       "    <tr>\n",
       "      <th>4</th>\n",
       "      <td>2000</td>\n",
       "      <td>VAN</td>\n",
       "      <td>Shareef Abdur-Rahim</td>\n",
       "      <td>23</td>\n",
       "      <td>82</td>\n",
       "      <td>20.2</td>\n",
       "      <td>0.547</td>\n",
       "      <td>0.075</td>\n",
       "      <td>0.431</td>\n",
       "      <td>8.0</td>\n",
       "      <td>22.7</td>\n",
       "      <td>15.3</td>\n",
       "      <td>15.5</td>\n",
       "      <td>1.5</td>\n",
       "      <td>1.9</td>\n",
       "      <td>14.1</td>\n",
       "      <td>25.0</td>\n",
       "      <td>8.8</td>\n",
       "      <td>0.132</td>\n",
       "      <td>1.7</td>\n",
       "      <td>0.3</td>\n",
       "      <td>2.0</td>\n",
       "      <td>3.5</td>\n",
       "      <td>-0.29</td>\n",
       "      <td>-0.04</td>\n",
       "      <td>39.3</td>\n",
       "      <td>-1.1</td>\n",
       "      <td>-4.5</td>\n",
       "      <td>14100000.0</td>\n",
       "      <td>3.0</td>\n",
       "      <td>3.0</td>\n",
       "      <td>81.0</td>\n",
       "      <td>225.0</td>\n",
       "      <td>4.0</td>\n",
       "      <td>0.0</td>\n",
       "    </tr>\n",
       "  </tbody>\n",
       "</table>\n",
       "</div>"
      ],
      "text/plain": [
       "   year   tm               player  ...  weight  rounded.position  Selected\n",
       "0  2000  DAL       Michael Finley  ...   215.0               2.0       0.0\n",
       "1  2000  SEA          Gary Payton  ...   180.0               1.0       0.0\n",
       "2  2000  NYK     Latrell Sprewell  ...   190.0               2.0       0.0\n",
       "3  2000  MIN        Kevin Garnett  ...   220.0               4.0       0.0\n",
       "4  2000  VAN  Shareef Abdur-Rahim  ...   225.0               4.0       0.0\n",
       "\n",
       "[5 rows x 35 columns]"
      ]
     },
     "execution_count": 12,
     "metadata": {},
     "output_type": "execute_result"
    }
   ],
   "source": [
    "df.head()"
   ]
  },
  {
   "cell_type": "code",
   "execution_count": 13,
   "metadata": {
    "executionInfo": {
     "elapsed": 425,
     "status": "ok",
     "timestamp": 1636514667210,
     "user": {
      "displayName": "Colin Eriksson",
      "photoUrl": "https://lh3.googleusercontent.com/a/default-user=s64",
      "userId": "01931492935605575511"
     },
     "user_tz": -480
    },
    "id": "limSqzEb2HDV"
   },
   "outputs": [],
   "source": [
    "non_stat_cols = ['year', 'tm', 'player', 'Selected']\n",
    "\n",
    "#Creates X_data by dropping non stats cols\n",
    "X = df.drop(columns = non_stat_cols)\n",
    "\n",
    "y =  df['Selected']"
   ]
  },
  {
   "cell_type": "code",
   "execution_count": 14,
   "metadata": {
    "colab": {
     "base_uri": "https://localhost:8080/"
    },
    "executionInfo": {
     "elapsed": 10,
     "status": "ok",
     "timestamp": 1636514669019,
     "user": {
      "displayName": "Colin Eriksson",
      "photoUrl": "https://lh3.googleusercontent.com/a/default-user=s64",
      "userId": "01931492935605575511"
     },
     "user_tz": -480
    },
    "id": "1tmwrmwi2HDW",
    "outputId": "f600aa87-3446-4492-9c9a-86bc775be7d1"
   },
   "outputs": [
    {
     "name": "stdout",
     "output_type": "stream",
     "text": [
      "<class 'pandas.core.frame.DataFrame'>\n",
      "RangeIndex: 8582 entries, 0 to 8581\n",
      "Data columns (total 31 columns):\n",
      " #   Column            Non-Null Count  Dtype  \n",
      "---  ------            --------------  -----  \n",
      " 0   age               8582 non-null   int64  \n",
      " 1   g                 8582 non-null   int64  \n",
      " 2   per               8582 non-null   float64\n",
      " 3   ts.               8545 non-null   float64\n",
      " 4   x3par             8542 non-null   float64\n",
      " 5   ftr               8542 non-null   float64\n",
      " 6   orb.              8582 non-null   float64\n",
      " 7   drb.              8582 non-null   float64\n",
      " 8   trb.              8582 non-null   float64\n",
      " 9   ast.              8582 non-null   float64\n",
      " 10  stl.              8582 non-null   float64\n",
      " 11  blk.              8582 non-null   float64\n",
      " 12  tov.              8554 non-null   float64\n",
      " 13  usg.              8582 non-null   float64\n",
      " 14  ws                8582 non-null   float64\n",
      " 15  ws.48             8582 non-null   float64\n",
      " 16  obpm              8582 non-null   float64\n",
      " 17  dbpm              8582 non-null   float64\n",
      " 18  bpm               8582 non-null   float64\n",
      " 19  vorp.gm           8582 non-null   float64\n",
      " 20  offense           8582 non-null   float64\n",
      " 21  defense           8582 non-null   float64\n",
      " 22  mpg.1             8582 non-null   float64\n",
      " 23  tm.ortg           8582 non-null   float64\n",
      " 24  tm.drtg           8582 non-null   float64\n",
      " 25  truesalary        6107 non-null   float64\n",
      " 26  bbref.pos         8580 non-null   float64\n",
      " 27  yrs.experience    8580 non-null   float64\n",
      " 28  height            8580 non-null   float64\n",
      " 29  weight            8580 non-null   float64\n",
      " 30  rounded.position  8580 non-null   float64\n",
      "dtypes: float64(29), int64(2)\n",
      "memory usage: 2.0 MB\n"
     ]
    }
   ],
   "source": [
    "#checks for missing values\n",
    "X.info()"
   ]
  },
  {
   "cell_type": "code",
   "execution_count": 15,
   "metadata": {
    "executionInfo": {
     "elapsed": 287,
     "status": "ok",
     "timestamp": 1636514672122,
     "user": {
      "displayName": "Colin Eriksson",
      "photoUrl": "https://lh3.googleusercontent.com/a/default-user=s64",
      "userId": "01931492935605575511"
     },
     "user_tz": -480
    },
    "id": "tOo7ZfkQ2HDX"
   },
   "outputs": [],
   "source": [
    "#Scale all cols\n",
    "scaler = StandardScaler()\n",
    "X_scaled = scaler.fit_transform(X)\n",
    "\n",
    "#Turning the ndarray back into a pandas df\n",
    "X = pd.DataFrame(X_scaled, columns= X.columns)"
   ]
  },
  {
   "cell_type": "code",
   "execution_count": 16,
   "metadata": {
    "executionInfo": {
     "elapsed": 2543,
     "status": "ok",
     "timestamp": 1636514677756,
     "user": {
      "displayName": "Colin Eriksson",
      "photoUrl": "https://lh3.googleusercontent.com/a/default-user=s64",
      "userId": "01931492935605575511"
     },
     "user_tz": -480
    },
    "id": "XisT5rHR2HDX"
   },
   "outputs": [],
   "source": [
    "#Use the KNN imputer to fill nan values in the dataset\n",
    "imputer = KNNImputer(n_neighbors=5, weights= 'distance')\n",
    "\n",
    "X_imputed = imputer.fit_transform(X)\n",
    "\n",
    "#Turning the ndarray back into a pandas df\n",
    "X = pd.DataFrame(X_imputed, columns= X.columns)"
   ]
  },
  {
   "cell_type": "code",
   "execution_count": 17,
   "metadata": {
    "colab": {
     "base_uri": "https://localhost:8080/"
    },
    "executionInfo": {
     "elapsed": 296,
     "status": "ok",
     "timestamp": 1636514680555,
     "user": {
      "displayName": "Colin Eriksson",
      "photoUrl": "https://lh3.googleusercontent.com/a/default-user=s64",
      "userId": "01931492935605575511"
     },
     "user_tz": -480
    },
    "id": "VLk_vVyV2HDY",
    "outputId": "eee7460c-def3-4020-92dc-9c2ff1aef7fa"
   },
   "outputs": [
    {
     "name": "stdout",
     "output_type": "stream",
     "text": [
      "With 1 PCA_components 24.106119351702386 % of the variance is explained\n",
      "With 2 PCA_components 45.65358202546834 % of the variance is explained\n",
      "With 3 PCA_components 53.52765148250539 % of the variance is explained\n",
      "With 4 PCA_components 60.2545099267495 % of the variance is explained\n",
      "With 5 PCA_components 66.68337392422416 % of the variance is explained\n",
      "With 6 PCA_components 71.1251277581909 % of the variance is explained\n",
      "With 7 PCA_components 74.90208009835065 % of the variance is explained\n",
      "With 8 PCA_components 78.55423143795811 % of the variance is explained\n",
      "With 9 PCA_components 81.53068666668824 % of the variance is explained\n",
      "With 10 PCA_components 84.22614819920553 % of the variance is explained\n",
      "With 11 PCA_components 86.60250061668089 % of the variance is explained\n",
      "With 12 PCA_components 88.87615545199336 % of the variance is explained\n",
      "With 13 PCA_components 90.95795657129545 % of the variance is explained\n",
      "With 14 PCA_components 92.8308517846278 % of the variance is explained\n",
      "With 15 PCA_components 94.31392981805199 % of the variance is explained\n",
      "With 16 PCA_components 95.60342633248558 % of the variance is explained\n",
      "With 17 PCA_components 96.61802975913032 % of the variance is explained\n",
      "With 18 PCA_components 97.3462094897608 % of the variance is explained\n",
      "With 19 PCA_components 97.92036683249688 % of the variance is explained\n",
      "With 20 PCA_components 98.46246279117985 % of the variance is explained\n",
      "With 21 PCA_components 98.96874798935899 % of the variance is explained\n",
      "With 22 PCA_components 99.25480689905388 % of the variance is explained\n",
      "With 23 PCA_components 99.47947138264148 % of the variance is explained\n",
      "With 24 PCA_components 99.67681930941924 % of the variance is explained\n",
      "With 25 PCA_components 99.79953370657125 % of the variance is explained\n",
      "With 26 PCA_components 99.91303778390393 % of the variance is explained\n",
      "With 27 PCA_components 99.95776372720272 % of the variance is explained\n",
      "With 28 PCA_components 99.99023610795452 % of the variance is explained\n",
      "With 29 PCA_components 99.9964536189374 % of the variance is explained\n",
      "With 30 PCA_components 99.99978525950971 % of the variance is explained\n",
      "With 31 PCA_components 100.0 % of the variance is explained\n"
     ]
    }
   ],
   "source": [
    "#This cell runs the PCA\n",
    "pca = PCA(random_state = 42)\n",
    "\n",
    "pca.fit(X)\n",
    "\n",
    "component_importances = pca.explained_variance_ratio_ \n",
    "\n",
    "variance_covered = 0\n",
    "components_included = 0\n",
    "while  components_included !=  len(component_importances) :\n",
    "    variance_covered = variance_covered + component_importances[components_included]\n",
    "    components_included+=1\n",
    "    \n",
    "    print('With ' + str(components_included) + ' PCA_components ' + str(variance_covered*100) + \n",
    "          ' % of the variance is explained')\n",
    "    "
   ]
  }
 ],
 "metadata": {
  "colab": {
   "collapsed_sections": [],
   "name": "DIC_project_PCA_v1.ipynb",
   "provenance": []
  },
  "kernelspec": {
   "display_name": "Python 3",
   "language": "python",
   "name": "python3"
  },
  "language_info": {
   "codemirror_mode": {
    "name": "ipython",
    "version": 3
   },
   "file_extension": ".py",
   "mimetype": "text/x-python",
   "name": "python",
   "nbconvert_exporter": "python",
   "pygments_lexer": "ipython3",
   "version": "3.8.8"
  }
 },
 "nbformat": 4,
 "nbformat_minor": 1
}

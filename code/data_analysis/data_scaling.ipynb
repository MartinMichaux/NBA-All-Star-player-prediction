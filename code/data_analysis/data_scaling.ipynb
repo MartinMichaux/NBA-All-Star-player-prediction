{
 "cells": [
  {
   "cell_type": "code",
   "execution_count": 1,
   "id": "1fe50dc1",
   "metadata": {},
   "outputs": [],
   "source": [
    "import pandas as pd\n",
    "from numpy import ravel\n",
    "from matplotlib import pyplot\n",
    "from sklearn.preprocessing import StandardScaler\n",
    "from sklearn.model_selection import KFold\n",
    "from sklearn.impute import KNNImputer\n",
    "\n",
    "# define dataset\n",
    "dataset = pd.read_csv('NBA_data_merged_imputed_v2.csv')\n",
    "\n",
    "# defines x and y values\n",
    "X = pd.DataFrame(dataset.loc[:, dataset.columns != 'Selected'])\n",
    "# remove string columns + duplicated after combination\n",
    "X = X.drop(columns=['tm', 'player'])\n",
    "y = pd.DataFrame(dataset[[\"Selected\"]])\n",
    "\n",
    "col_to_add = pd.DataFrame(dataset.loc[:, ['player','tm']])\n",
    "\n",
    "#NORMALIZATION\n",
    "scaler = StandardScaler()\n",
    "X_scaled = scaler.fit_transform(X)\n",
    "\n",
    "#Turning the ndarray back into a pandas df\n",
    "X = pd.DataFrame(X_scaled, columns= X.columns)\n",
    "\n",
    "new_dataset = pd.concat([col_to_add,X,y], axis=1)"
   ]
  },
  {
   "cell_type": "code",
   "execution_count": 2,
   "id": "5ee552d6",
   "metadata": {},
   "outputs": [
    {
     "data": {
      "text/plain": [
       "(8582, 35)"
      ]
     },
     "execution_count": 2,
     "metadata": {},
     "output_type": "execute_result"
    }
   ],
   "source": [
    "new_dataset.shape"
   ]
  },
  {
   "cell_type": "code",
   "execution_count": 11,
   "id": "bcb23c10",
   "metadata": {},
   "outputs": [],
   "source": [
    "compression_opts = dict(method='zip',\n",
    "                        archive_name='NBA_data_merged_imputed_scaled.csv')  \n",
    "new_dataset.to_csv('out.zip', index=False,\n",
    "          compression=compression_opts)"
   ]
  },
  {
   "cell_type": "code",
   "execution_count": null,
   "id": "9ff45f98",
   "metadata": {},
   "outputs": [],
   "source": []
  }
 ],
 "metadata": {
  "kernelspec": {
   "display_name": "Python 3",
   "language": "python",
   "name": "python3"
  },
  "language_info": {
   "codemirror_mode": {
    "name": "ipython",
    "version": 3
   },
   "file_extension": ".py",
   "mimetype": "text/x-python",
   "name": "python",
   "nbconvert_exporter": "python",
   "pygments_lexer": "ipython3",
   "version": "3.8.8"
  }
 },
 "nbformat": 4,
 "nbformat_minor": 5
}
